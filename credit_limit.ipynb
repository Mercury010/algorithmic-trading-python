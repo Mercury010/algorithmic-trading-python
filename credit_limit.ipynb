{
 "cells": [
  {
   "cell_type": "markdown",
   "metadata": {},
   "source": [
    "# Credit Limit Calculator\n",
    "This notebook calculates a customer's credit limit based on their annual income.\n"
   ]
  },
  {
   "cell_type": "code",
   "execution_count": null,
   "metadata": {},
   "outputs": [],
   "source": [
    "import pandas as pd\n",
    "import math\n"
   ]
  },
  {
   "cell_type": "code",
   "execution_count": null,
   "metadata": {},
   "outputs": [],
   "source": [
    "def determine_credit_limit(income):\n",
    "    \"\"\"Return the allowed credit limit for a given income.\n",
    "    The limit is 0 for income below 5000.\n",
    "    Between 5000 and 10000 inclusive the limit is 1000.\n",
    "    Above 10000 the limit can be up to 30% of income but never more than 50,000.\n",
    "    The limit is rounded down to the nearest 500.\n",
    "    \"\"\"\n",
    "    if income < 5000:\n",
    "        limit = 0\n",
    "    elif income <= 10000:\n",
    "        limit = 1000\n",
    "    else:\n",
    "        limit = income * 0.30\n",
    "        limit = min(limit, 50000)\n",
    "        limit = math.floor(limit / 500) * 500\n",
    "    return limit\n"
   ]
  },
  {
   "cell_type": "code",
   "execution_count": null,
   "metadata": {},
   "outputs": [],
   "source": [
    "income = float(input('Enter annual income: '))\n",
    "limit = determine_credit_limit(income)\n",
    "print(f'Credit limit: {limit}')\n"
   ]
  }
 ],
 "metadata": {
  "kernelspec": {
   "display_name": "Python 3",
   "language": "python",
   "name": "python3"
  },
  "language_info": {
   "name": "python",
   "version": "3.x"
  }
 },
 "nbformat": 4,
 "nbformat_minor": 2
}
